{
  "nbformat": 4,
  "nbformat_minor": 0,
  "metadata": {
    "colab": {
      "provenance": [],
      "gpuType": "T4",
      "authorship_tag": "ABX9TyP8SayLnFnB27ELocjGRXN0",
      "include_colab_link": true
    },
    "kernelspec": {
      "name": "python3",
      "display_name": "Python 3"
    },
    "language_info": {
      "name": "python"
    },
    "accelerator": "GPU"
  },
  "cells": [
    {
      "cell_type": "markdown",
      "metadata": {
        "id": "view-in-github",
        "colab_type": "text"
      },
      "source": [
        "<a href=\"https://colab.research.google.com/github/Nyarelia/breast_cancer_linear_regression/blob/main/breast_cancer_classification.ipynb\" target=\"_parent\"><img src=\"https://colab.research.google.com/assets/colab-badge.svg\" alt=\"Open In Colab\"/></a>"
      ]
    },
    {
      "cell_type": "code",
      "execution_count": 1,
      "metadata": {
        "colab": {
          "base_uri": "https://localhost:8080/"
        },
        "id": "Ra4j27GW64i_",
        "outputId": "78e8d79c-7933-48fa-869b-1fc2605c93aa"
      },
      "outputs": [
        {
          "output_type": "stream",
          "name": "stdout",
          "text": [
            "2.15.0\n"
          ]
        }
      ],
      "source": [
        "import tensorflow as tf\n",
        "print(tf.__version__)"
      ]
    },
    {
      "cell_type": "code",
      "source": [
        "from sklearn.datasets import load_breast_cancer\n",
        "from sklearn.model_selection import train_test_split\n",
        "from sklearn.preprocessing import StandardScaler\n",
        "import matplotlib.pyplot as plt\n",
        "import numpy as np"
      ],
      "metadata": {
        "id": "l7Hc2_gl7aDp"
      },
      "execution_count": 25,
      "outputs": []
    },
    {
      "cell_type": "code",
      "source": [
        "data = load_breast_cancer()"
      ],
      "metadata": {
        "id": "pOu8X7ZgHYTu"
      },
      "execution_count": 3,
      "outputs": []
    },
    {
      "cell_type": "code",
      "source": [
        "type(data)"
      ],
      "metadata": {
        "colab": {
          "base_uri": "https://localhost:8080/",
          "height": 186
        },
        "id": "gkaHE_3-HeSb",
        "outputId": "df8b71ea-70e2-4059-caaa-4cb9ae1bbc6e"
      },
      "execution_count": 4,
      "outputs": [
        {
          "output_type": "execute_result",
          "data": {
            "text/plain": [
              "sklearn.utils._bunch.Bunch"
            ],
            "text/html": [
              "<div style=\"max-width:800px; border: 1px solid var(--colab-border-color);\"><style>\n",
              "      pre.function-repr-contents {\n",
              "        overflow-x: auto;\n",
              "        padding: 8px 12px;\n",
              "        max-height: 500px;\n",
              "      }\n",
              "\n",
              "      pre.function-repr-contents.function-repr-contents-collapsed {\n",
              "        cursor: pointer;\n",
              "        max-height: 100px;\n",
              "      }\n",
              "    </style>\n",
              "    <pre style=\"white-space: initial; background:\n",
              "         var(--colab-secondary-surface-color); padding: 8px 12px;\n",
              "         border-bottom: 1px solid var(--colab-border-color);\"><b>sklearn.utils._bunch.Bunch</b><br/>def __init__(**kwargs)</pre><pre class=\"function-repr-contents function-repr-contents-collapsed\" style=\"\"><a class=\"filepath\" style=\"display:none\" href=\"#\">/usr/local/lib/python3.10/dist-packages/sklearn/utils/_bunch.py</a>Container object exposing keys as attributes.\n",
              "\n",
              "Bunch objects are sometimes used as an output for functions and methods.\n",
              "They extend dictionaries by enabling values to be accessed by key,\n",
              "`bunch[&quot;value_key&quot;]`, or by an attribute, `bunch.value_key`.\n",
              "\n",
              "Examples\n",
              "--------\n",
              "&gt;&gt;&gt; from sklearn.utils import Bunch\n",
              "&gt;&gt;&gt; b = Bunch(a=1, b=2)\n",
              "&gt;&gt;&gt; b[&#x27;b&#x27;]\n",
              "2\n",
              "&gt;&gt;&gt; b.b\n",
              "2\n",
              "&gt;&gt;&gt; b.a = 3\n",
              "&gt;&gt;&gt; b[&#x27;a&#x27;]\n",
              "3\n",
              "&gt;&gt;&gt; b.c = 6\n",
              "&gt;&gt;&gt; b[&#x27;c&#x27;]\n",
              "6</pre>\n",
              "      <script>\n",
              "      if (google.colab.kernel.accessAllowed && google.colab.files && google.colab.files.view) {\n",
              "        for (const element of document.querySelectorAll('.filepath')) {\n",
              "          element.style.display = 'block'\n",
              "          element.onclick = (event) => {\n",
              "            event.preventDefault();\n",
              "            event.stopPropagation();\n",
              "            google.colab.files.view(element.textContent, 1);\n",
              "          };\n",
              "        }\n",
              "      }\n",
              "      for (const element of document.querySelectorAll('.function-repr-contents')) {\n",
              "        element.onclick = (event) => {\n",
              "          event.preventDefault();\n",
              "          event.stopPropagation();\n",
              "          element.classList.toggle('function-repr-contents-collapsed');\n",
              "        };\n",
              "      }\n",
              "      </script>\n",
              "      </div>"
            ]
          },
          "metadata": {},
          "execution_count": 4
        }
      ]
    },
    {
      "cell_type": "code",
      "source": [
        "data.keys()"
      ],
      "metadata": {
        "colab": {
          "base_uri": "https://localhost:8080/"
        },
        "id": "mF2uFmfgHfIM",
        "outputId": "5f2638f2-3355-45ca-e8c4-1c90442b4ef4"
      },
      "execution_count": 5,
      "outputs": [
        {
          "output_type": "execute_result",
          "data": {
            "text/plain": [
              "dict_keys(['data', 'target', 'frame', 'target_names', 'DESCR', 'feature_names', 'filename', 'data_module'])"
            ]
          },
          "metadata": {},
          "execution_count": 5
        }
      ]
    },
    {
      "cell_type": "code",
      "source": [
        "data.data.shape"
      ],
      "metadata": {
        "colab": {
          "base_uri": "https://localhost:8080/"
        },
        "id": "N81BEGQKHo6k",
        "outputId": "0bc8401e-f840-42e2-a441-a49ee9731d36"
      },
      "execution_count": 6,
      "outputs": [
        {
          "output_type": "execute_result",
          "data": {
            "text/plain": [
              "(569, 30)"
            ]
          },
          "metadata": {},
          "execution_count": 6
        }
      ]
    },
    {
      "cell_type": "code",
      "source": [
        "data.target_names"
      ],
      "metadata": {
        "colab": {
          "base_uri": "https://localhost:8080/"
        },
        "id": "6kzESTmmPAvM",
        "outputId": "04c4703e-3f63-47c1-a854-dee004d33289"
      },
      "execution_count": 7,
      "outputs": [
        {
          "output_type": "execute_result",
          "data": {
            "text/plain": [
              "array(['malignant', 'benign'], dtype='<U9')"
            ]
          },
          "metadata": {},
          "execution_count": 7
        }
      ]
    },
    {
      "cell_type": "code",
      "source": [
        "data.target.shape"
      ],
      "metadata": {
        "colab": {
          "base_uri": "https://localhost:8080/"
        },
        "id": "GjC6DfGOPRiO",
        "outputId": "e4bb65a8-e1aa-4de2-cbc8-725780675ede"
      },
      "execution_count": 8,
      "outputs": [
        {
          "output_type": "execute_result",
          "data": {
            "text/plain": [
              "(569,)"
            ]
          },
          "metadata": {},
          "execution_count": 8
        }
      ]
    },
    {
      "cell_type": "code",
      "source": [
        "data.feature_names # In corresponding order"
      ],
      "metadata": {
        "colab": {
          "base_uri": "https://localhost:8080/"
        },
        "id": "b0dzQnKgPebX",
        "outputId": "bc24f6d0-8195-4256-afdf-5c5d074304bf"
      },
      "execution_count": 9,
      "outputs": [
        {
          "output_type": "execute_result",
          "data": {
            "text/plain": [
              "array(['mean radius', 'mean texture', 'mean perimeter', 'mean area',\n",
              "       'mean smoothness', 'mean compactness', 'mean concavity',\n",
              "       'mean concave points', 'mean symmetry', 'mean fractal dimension',\n",
              "       'radius error', 'texture error', 'perimeter error', 'area error',\n",
              "       'smoothness error', 'compactness error', 'concavity error',\n",
              "       'concave points error', 'symmetry error',\n",
              "       'fractal dimension error', 'worst radius', 'worst texture',\n",
              "       'worst perimeter', 'worst area', 'worst smoothness',\n",
              "       'worst compactness', 'worst concavity', 'worst concave points',\n",
              "       'worst symmetry', 'worst fractal dimension'], dtype='<U23')"
            ]
          },
          "metadata": {},
          "execution_count": 9
        }
      ]
    },
    {
      "cell_type": "code",
      "source": [
        "X_train, X_test, y_train, y_test = train_test_split(\n",
        "    data.data,\n",
        "    data.target,\n",
        "    random_state=80085,\n",
        "    test_size=0.2)"
      ],
      "metadata": {
        "id": "sG-UG7vSPlBY"
      },
      "execution_count": 10,
      "outputs": []
    },
    {
      "cell_type": "code",
      "source": [
        "N, D = X_train.shape"
      ],
      "metadata": {
        "id": "OPyCnKg5QRrZ"
      },
      "execution_count": 11,
      "outputs": []
    },
    {
      "cell_type": "code",
      "source": [
        "N, D"
      ],
      "metadata": {
        "colab": {
          "base_uri": "https://localhost:8080/"
        },
        "id": "VqJ46CkXQV62",
        "outputId": "f3506aab-45a2-419f-9039-abe30e7b3458"
      },
      "execution_count": 12,
      "outputs": [
        {
          "output_type": "execute_result",
          "data": {
            "text/plain": [
              "(455, 30)"
            ]
          },
          "metadata": {},
          "execution_count": 12
        }
      ]
    },
    {
      "cell_type": "code",
      "source": [
        "scaler = StandardScaler()\n",
        "X_train = scaler.fit_transform(X_train) # Does both fit and transform in one step\n",
        "X_test = scaler.transform(X_test)"
      ],
      "metadata": {
        "id": "EQQ5RYXoQW9X"
      },
      "execution_count": 13,
      "outputs": []
    },
    {
      "cell_type": "code",
      "source": [
        "model = tf.keras.models.Sequential([\n",
        "    tf.keras.layers.Input(shape=(D,)),\n",
        "    tf.keras.layers.Dense(1, activation='sigmoid')\n",
        "])"
      ],
      "metadata": {
        "id": "YeTXRXTLRCCI"
      },
      "execution_count": 14,
      "outputs": []
    },
    {
      "cell_type": "code",
      "source": [
        "# # Alt way\n",
        "# model = tf.keras.models.Sequential()\n",
        "# model.add(tf.keras.layers.Dense(1, input_shape=(D,), activation='sigmoid'))"
      ],
      "metadata": {
        "id": "6tYbElqPRVYt"
      },
      "execution_count": 15,
      "outputs": []
    },
    {
      "cell_type": "code",
      "source": [
        "model.compile(optimizer='adam',\n",
        "              loss='binary_crossentropy',\n",
        "              metrics=['accuracy'])"
      ],
      "metadata": {
        "id": "CNH2wKkxRwWY"
      },
      "execution_count": 16,
      "outputs": []
    },
    {
      "cell_type": "code",
      "source": [
        "r = model.fit(X_train, y_train, validation_data=(X_test, y_test), epochs=100)"
      ],
      "metadata": {
        "colab": {
          "base_uri": "https://localhost:8080/"
        },
        "id": "p4w05_jeSRDa",
        "outputId": "f5745ab7-3082-4832-f463-89c028c0d9fe"
      },
      "execution_count": 17,
      "outputs": [
        {
          "output_type": "stream",
          "name": "stdout",
          "text": [
            "Epoch 1/100\n",
            "15/15 [==============================] - 3s 25ms/step - loss: 0.5282 - accuracy: 0.7934 - val_loss: 0.4615 - val_accuracy: 0.8246\n",
            "Epoch 2/100\n",
            "15/15 [==============================] - 0s 8ms/step - loss: 0.4698 - accuracy: 0.8352 - val_loss: 0.4135 - val_accuracy: 0.8596\n",
            "Epoch 3/100\n",
            "15/15 [==============================] - 0s 6ms/step - loss: 0.4243 - accuracy: 0.8747 - val_loss: 0.3744 - val_accuracy: 0.8860\n",
            "Epoch 4/100\n",
            "15/15 [==============================] - 0s 7ms/step - loss: 0.3865 - accuracy: 0.8923 - val_loss: 0.3428 - val_accuracy: 0.9211\n",
            "Epoch 5/100\n",
            "15/15 [==============================] - 0s 7ms/step - loss: 0.3565 - accuracy: 0.8989 - val_loss: 0.3161 - val_accuracy: 0.9298\n",
            "Epoch 6/100\n",
            "15/15 [==============================] - 0s 8ms/step - loss: 0.3318 - accuracy: 0.9077 - val_loss: 0.2933 - val_accuracy: 0.9474\n",
            "Epoch 7/100\n",
            "15/15 [==============================] - 0s 7ms/step - loss: 0.3099 - accuracy: 0.9209 - val_loss: 0.2744 - val_accuracy: 0.9474\n",
            "Epoch 8/100\n",
            "15/15 [==============================] - 0s 8ms/step - loss: 0.2914 - accuracy: 0.9341 - val_loss: 0.2576 - val_accuracy: 0.9561\n",
            "Epoch 9/100\n",
            "15/15 [==============================] - 0s 8ms/step - loss: 0.2753 - accuracy: 0.9385 - val_loss: 0.2435 - val_accuracy: 0.9561\n",
            "Epoch 10/100\n",
            "15/15 [==============================] - 0s 7ms/step - loss: 0.2613 - accuracy: 0.9429 - val_loss: 0.2307 - val_accuracy: 0.9561\n",
            "Epoch 11/100\n",
            "15/15 [==============================] - 0s 7ms/step - loss: 0.2491 - accuracy: 0.9473 - val_loss: 0.2198 - val_accuracy: 0.9561\n",
            "Epoch 12/100\n",
            "15/15 [==============================] - 0s 8ms/step - loss: 0.2386 - accuracy: 0.9473 - val_loss: 0.2100 - val_accuracy: 0.9561\n",
            "Epoch 13/100\n",
            "15/15 [==============================] - 0s 8ms/step - loss: 0.2289 - accuracy: 0.9538 - val_loss: 0.2016 - val_accuracy: 0.9561\n",
            "Epoch 14/100\n",
            "15/15 [==============================] - 0s 8ms/step - loss: 0.2204 - accuracy: 0.9582 - val_loss: 0.1938 - val_accuracy: 0.9561\n",
            "Epoch 15/100\n",
            "15/15 [==============================] - 0s 7ms/step - loss: 0.2128 - accuracy: 0.9582 - val_loss: 0.1869 - val_accuracy: 0.9561\n",
            "Epoch 16/100\n",
            "15/15 [==============================] - 0s 7ms/step - loss: 0.2056 - accuracy: 0.9582 - val_loss: 0.1807 - val_accuracy: 0.9561\n",
            "Epoch 17/100\n",
            "15/15 [==============================] - 0s 7ms/step - loss: 0.1992 - accuracy: 0.9582 - val_loss: 0.1748 - val_accuracy: 0.9649\n",
            "Epoch 18/100\n",
            "15/15 [==============================] - 0s 7ms/step - loss: 0.1933 - accuracy: 0.9582 - val_loss: 0.1696 - val_accuracy: 0.9649\n",
            "Epoch 19/100\n",
            "15/15 [==============================] - 0s 8ms/step - loss: 0.1879 - accuracy: 0.9604 - val_loss: 0.1649 - val_accuracy: 0.9649\n",
            "Epoch 20/100\n",
            "15/15 [==============================] - 0s 8ms/step - loss: 0.1830 - accuracy: 0.9626 - val_loss: 0.1603 - val_accuracy: 0.9649\n",
            "Epoch 21/100\n",
            "15/15 [==============================] - 0s 8ms/step - loss: 0.1784 - accuracy: 0.9626 - val_loss: 0.1562 - val_accuracy: 0.9649\n",
            "Epoch 22/100\n",
            "15/15 [==============================] - 0s 9ms/step - loss: 0.1742 - accuracy: 0.9626 - val_loss: 0.1521 - val_accuracy: 0.9737\n",
            "Epoch 23/100\n",
            "15/15 [==============================] - 0s 12ms/step - loss: 0.1702 - accuracy: 0.9648 - val_loss: 0.1485 - val_accuracy: 0.9737\n",
            "Epoch 24/100\n",
            "15/15 [==============================] - 0s 11ms/step - loss: 0.1664 - accuracy: 0.9670 - val_loss: 0.1451 - val_accuracy: 0.9737\n",
            "Epoch 25/100\n",
            "15/15 [==============================] - 0s 9ms/step - loss: 0.1630 - accuracy: 0.9670 - val_loss: 0.1421 - val_accuracy: 0.9737\n",
            "Epoch 26/100\n",
            "15/15 [==============================] - 0s 11ms/step - loss: 0.1599 - accuracy: 0.9714 - val_loss: 0.1391 - val_accuracy: 0.9737\n",
            "Epoch 27/100\n",
            "15/15 [==============================] - 0s 9ms/step - loss: 0.1568 - accuracy: 0.9714 - val_loss: 0.1363 - val_accuracy: 0.9737\n",
            "Epoch 28/100\n",
            "15/15 [==============================] - 0s 8ms/step - loss: 0.1540 - accuracy: 0.9714 - val_loss: 0.1335 - val_accuracy: 0.9737\n",
            "Epoch 29/100\n",
            "15/15 [==============================] - 0s 11ms/step - loss: 0.1512 - accuracy: 0.9714 - val_loss: 0.1309 - val_accuracy: 0.9737\n",
            "Epoch 30/100\n",
            "15/15 [==============================] - 0s 9ms/step - loss: 0.1485 - accuracy: 0.9714 - val_loss: 0.1285 - val_accuracy: 0.9737\n",
            "Epoch 31/100\n",
            "15/15 [==============================] - 0s 11ms/step - loss: 0.1462 - accuracy: 0.9714 - val_loss: 0.1262 - val_accuracy: 0.9737\n",
            "Epoch 32/100\n",
            "15/15 [==============================] - 0s 9ms/step - loss: 0.1438 - accuracy: 0.9714 - val_loss: 0.1241 - val_accuracy: 0.9825\n",
            "Epoch 33/100\n",
            "15/15 [==============================] - 0s 9ms/step - loss: 0.1417 - accuracy: 0.9714 - val_loss: 0.1220 - val_accuracy: 0.9825\n",
            "Epoch 34/100\n",
            "15/15 [==============================] - 0s 8ms/step - loss: 0.1396 - accuracy: 0.9714 - val_loss: 0.1202 - val_accuracy: 0.9825\n",
            "Epoch 35/100\n",
            "15/15 [==============================] - 0s 9ms/step - loss: 0.1377 - accuracy: 0.9714 - val_loss: 0.1184 - val_accuracy: 0.9825\n",
            "Epoch 36/100\n",
            "15/15 [==============================] - 0s 8ms/step - loss: 0.1358 - accuracy: 0.9714 - val_loss: 0.1167 - val_accuracy: 0.9825\n",
            "Epoch 37/100\n",
            "15/15 [==============================] - 0s 9ms/step - loss: 0.1340 - accuracy: 0.9714 - val_loss: 0.1151 - val_accuracy: 0.9825\n",
            "Epoch 38/100\n",
            "15/15 [==============================] - 0s 9ms/step - loss: 0.1323 - accuracy: 0.9714 - val_loss: 0.1135 - val_accuracy: 0.9825\n",
            "Epoch 39/100\n",
            "15/15 [==============================] - 0s 9ms/step - loss: 0.1307 - accuracy: 0.9714 - val_loss: 0.1122 - val_accuracy: 0.9825\n",
            "Epoch 40/100\n",
            "15/15 [==============================] - 0s 10ms/step - loss: 0.1292 - accuracy: 0.9714 - val_loss: 0.1107 - val_accuracy: 0.9825\n",
            "Epoch 41/100\n",
            "15/15 [==============================] - 0s 10ms/step - loss: 0.1278 - accuracy: 0.9714 - val_loss: 0.1095 - val_accuracy: 0.9825\n",
            "Epoch 42/100\n",
            "15/15 [==============================] - 0s 10ms/step - loss: 0.1264 - accuracy: 0.9714 - val_loss: 0.1082 - val_accuracy: 0.9825\n",
            "Epoch 43/100\n",
            "15/15 [==============================] - 0s 9ms/step - loss: 0.1250 - accuracy: 0.9714 - val_loss: 0.1070 - val_accuracy: 0.9825\n",
            "Epoch 44/100\n",
            "15/15 [==============================] - 0s 9ms/step - loss: 0.1237 - accuracy: 0.9714 - val_loss: 0.1059 - val_accuracy: 0.9825\n",
            "Epoch 45/100\n",
            "15/15 [==============================] - 0s 10ms/step - loss: 0.1225 - accuracy: 0.9714 - val_loss: 0.1047 - val_accuracy: 0.9825\n",
            "Epoch 46/100\n",
            "15/15 [==============================] - 0s 8ms/step - loss: 0.1212 - accuracy: 0.9714 - val_loss: 0.1036 - val_accuracy: 0.9825\n",
            "Epoch 47/100\n",
            "15/15 [==============================] - 0s 9ms/step - loss: 0.1200 - accuracy: 0.9736 - val_loss: 0.1025 - val_accuracy: 0.9825\n",
            "Epoch 48/100\n",
            "15/15 [==============================] - 0s 10ms/step - loss: 0.1189 - accuracy: 0.9736 - val_loss: 0.1016 - val_accuracy: 0.9825\n",
            "Epoch 49/100\n",
            "15/15 [==============================] - 0s 9ms/step - loss: 0.1180 - accuracy: 0.9736 - val_loss: 0.1007 - val_accuracy: 0.9825\n",
            "Epoch 50/100\n",
            "15/15 [==============================] - 0s 12ms/step - loss: 0.1170 - accuracy: 0.9736 - val_loss: 0.0998 - val_accuracy: 0.9825\n",
            "Epoch 51/100\n",
            "15/15 [==============================] - 0s 9ms/step - loss: 0.1159 - accuracy: 0.9736 - val_loss: 0.0989 - val_accuracy: 0.9825\n",
            "Epoch 52/100\n",
            "15/15 [==============================] - 0s 8ms/step - loss: 0.1150 - accuracy: 0.9736 - val_loss: 0.0980 - val_accuracy: 0.9825\n",
            "Epoch 53/100\n",
            "15/15 [==============================] - 0s 8ms/step - loss: 0.1140 - accuracy: 0.9736 - val_loss: 0.0971 - val_accuracy: 0.9825\n",
            "Epoch 54/100\n",
            "15/15 [==============================] - 0s 14ms/step - loss: 0.1131 - accuracy: 0.9736 - val_loss: 0.0963 - val_accuracy: 0.9825\n",
            "Epoch 55/100\n",
            "15/15 [==============================] - 0s 9ms/step - loss: 0.1122 - accuracy: 0.9736 - val_loss: 0.0954 - val_accuracy: 0.9825\n",
            "Epoch 56/100\n",
            "15/15 [==============================] - 0s 7ms/step - loss: 0.1113 - accuracy: 0.9736 - val_loss: 0.0947 - val_accuracy: 0.9912\n",
            "Epoch 57/100\n",
            "15/15 [==============================] - 0s 8ms/step - loss: 0.1105 - accuracy: 0.9736 - val_loss: 0.0940 - val_accuracy: 0.9912\n",
            "Epoch 58/100\n",
            "15/15 [==============================] - 0s 8ms/step - loss: 0.1096 - accuracy: 0.9736 - val_loss: 0.0932 - val_accuracy: 0.9912\n",
            "Epoch 59/100\n",
            "15/15 [==============================] - 0s 8ms/step - loss: 0.1088 - accuracy: 0.9736 - val_loss: 0.0925 - val_accuracy: 0.9912\n",
            "Epoch 60/100\n",
            "15/15 [==============================] - 0s 7ms/step - loss: 0.1080 - accuracy: 0.9736 - val_loss: 0.0917 - val_accuracy: 1.0000\n",
            "Epoch 61/100\n",
            "15/15 [==============================] - 0s 5ms/step - loss: 0.1072 - accuracy: 0.9736 - val_loss: 0.0912 - val_accuracy: 1.0000\n",
            "Epoch 62/100\n",
            "15/15 [==============================] - 0s 8ms/step - loss: 0.1065 - accuracy: 0.9736 - val_loss: 0.0904 - val_accuracy: 1.0000\n",
            "Epoch 63/100\n",
            "15/15 [==============================] - 0s 6ms/step - loss: 0.1058 - accuracy: 0.9736 - val_loss: 0.0898 - val_accuracy: 1.0000\n",
            "Epoch 64/100\n",
            "15/15 [==============================] - 0s 7ms/step - loss: 0.1052 - accuracy: 0.9736 - val_loss: 0.0894 - val_accuracy: 1.0000\n",
            "Epoch 65/100\n",
            "15/15 [==============================] - 0s 6ms/step - loss: 0.1044 - accuracy: 0.9736 - val_loss: 0.0886 - val_accuracy: 1.0000\n",
            "Epoch 66/100\n",
            "15/15 [==============================] - 0s 7ms/step - loss: 0.1037 - accuracy: 0.9736 - val_loss: 0.0881 - val_accuracy: 1.0000\n",
            "Epoch 67/100\n",
            "15/15 [==============================] - 0s 7ms/step - loss: 0.1031 - accuracy: 0.9736 - val_loss: 0.0874 - val_accuracy: 1.0000\n",
            "Epoch 68/100\n",
            "15/15 [==============================] - 0s 7ms/step - loss: 0.1024 - accuracy: 0.9736 - val_loss: 0.0869 - val_accuracy: 1.0000\n",
            "Epoch 69/100\n",
            "15/15 [==============================] - 0s 7ms/step - loss: 0.1019 - accuracy: 0.9736 - val_loss: 0.0866 - val_accuracy: 1.0000\n",
            "Epoch 70/100\n",
            "15/15 [==============================] - 0s 9ms/step - loss: 0.1012 - accuracy: 0.9758 - val_loss: 0.0861 - val_accuracy: 1.0000\n",
            "Epoch 71/100\n",
            "15/15 [==============================] - 0s 8ms/step - loss: 0.1006 - accuracy: 0.9758 - val_loss: 0.0856 - val_accuracy: 1.0000\n",
            "Epoch 72/100\n",
            "15/15 [==============================] - 0s 8ms/step - loss: 0.1000 - accuracy: 0.9758 - val_loss: 0.0852 - val_accuracy: 1.0000\n",
            "Epoch 73/100\n",
            "15/15 [==============================] - 0s 8ms/step - loss: 0.0995 - accuracy: 0.9758 - val_loss: 0.0848 - val_accuracy: 1.0000\n",
            "Epoch 74/100\n",
            "15/15 [==============================] - 0s 8ms/step - loss: 0.0989 - accuracy: 0.9758 - val_loss: 0.0844 - val_accuracy: 1.0000\n",
            "Epoch 75/100\n",
            "15/15 [==============================] - 0s 8ms/step - loss: 0.0984 - accuracy: 0.9758 - val_loss: 0.0840 - val_accuracy: 1.0000\n",
            "Epoch 76/100\n",
            "15/15 [==============================] - 0s 7ms/step - loss: 0.0979 - accuracy: 0.9758 - val_loss: 0.0836 - val_accuracy: 1.0000\n",
            "Epoch 77/100\n",
            "15/15 [==============================] - 0s 7ms/step - loss: 0.0974 - accuracy: 0.9758 - val_loss: 0.0832 - val_accuracy: 1.0000\n",
            "Epoch 78/100\n",
            "15/15 [==============================] - 0s 7ms/step - loss: 0.0969 - accuracy: 0.9758 - val_loss: 0.0828 - val_accuracy: 1.0000\n",
            "Epoch 79/100\n",
            "15/15 [==============================] - 0s 5ms/step - loss: 0.0964 - accuracy: 0.9758 - val_loss: 0.0824 - val_accuracy: 1.0000\n",
            "Epoch 80/100\n",
            "15/15 [==============================] - 0s 6ms/step - loss: 0.0959 - accuracy: 0.9780 - val_loss: 0.0823 - val_accuracy: 1.0000\n",
            "Epoch 81/100\n",
            "15/15 [==============================] - 0s 5ms/step - loss: 0.0954 - accuracy: 0.9802 - val_loss: 0.0820 - val_accuracy: 1.0000\n",
            "Epoch 82/100\n",
            "15/15 [==============================] - 0s 6ms/step - loss: 0.0950 - accuracy: 0.9802 - val_loss: 0.0817 - val_accuracy: 1.0000\n",
            "Epoch 83/100\n",
            "15/15 [==============================] - 0s 6ms/step - loss: 0.0945 - accuracy: 0.9802 - val_loss: 0.0814 - val_accuracy: 0.9912\n",
            "Epoch 84/100\n",
            "15/15 [==============================] - 0s 6ms/step - loss: 0.0941 - accuracy: 0.9802 - val_loss: 0.0813 - val_accuracy: 0.9912\n",
            "Epoch 85/100\n",
            "15/15 [==============================] - 0s 5ms/step - loss: 0.0936 - accuracy: 0.9802 - val_loss: 0.0808 - val_accuracy: 0.9912\n",
            "Epoch 86/100\n",
            "15/15 [==============================] - 0s 6ms/step - loss: 0.0932 - accuracy: 0.9780 - val_loss: 0.0806 - val_accuracy: 0.9912\n",
            "Epoch 87/100\n",
            "15/15 [==============================] - 0s 5ms/step - loss: 0.0928 - accuracy: 0.9780 - val_loss: 0.0803 - val_accuracy: 0.9912\n",
            "Epoch 88/100\n",
            "15/15 [==============================] - 0s 5ms/step - loss: 0.0924 - accuracy: 0.9780 - val_loss: 0.0806 - val_accuracy: 0.9912\n",
            "Epoch 89/100\n",
            "15/15 [==============================] - 0s 6ms/step - loss: 0.0920 - accuracy: 0.9780 - val_loss: 0.0803 - val_accuracy: 0.9912\n",
            "Epoch 90/100\n",
            "15/15 [==============================] - 0s 5ms/step - loss: 0.0916 - accuracy: 0.9780 - val_loss: 0.0800 - val_accuracy: 0.9912\n",
            "Epoch 91/100\n",
            "15/15 [==============================] - 0s 5ms/step - loss: 0.0912 - accuracy: 0.9780 - val_loss: 0.0797 - val_accuracy: 0.9912\n",
            "Epoch 92/100\n",
            "15/15 [==============================] - 0s 6ms/step - loss: 0.0908 - accuracy: 0.9780 - val_loss: 0.0792 - val_accuracy: 0.9912\n",
            "Epoch 93/100\n",
            "15/15 [==============================] - 0s 5ms/step - loss: 0.0904 - accuracy: 0.9780 - val_loss: 0.0790 - val_accuracy: 0.9912\n",
            "Epoch 94/100\n",
            "15/15 [==============================] - 0s 5ms/step - loss: 0.0901 - accuracy: 0.9780 - val_loss: 0.0787 - val_accuracy: 0.9912\n",
            "Epoch 95/100\n",
            "15/15 [==============================] - 0s 6ms/step - loss: 0.0897 - accuracy: 0.9780 - val_loss: 0.0785 - val_accuracy: 0.9912\n",
            "Epoch 96/100\n",
            "15/15 [==============================] - 0s 5ms/step - loss: 0.0893 - accuracy: 0.9780 - val_loss: 0.0783 - val_accuracy: 0.9912\n",
            "Epoch 97/100\n",
            "15/15 [==============================] - 0s 6ms/step - loss: 0.0890 - accuracy: 0.9780 - val_loss: 0.0780 - val_accuracy: 0.9912\n",
            "Epoch 98/100\n",
            "15/15 [==============================] - 0s 5ms/step - loss: 0.0887 - accuracy: 0.9780 - val_loss: 0.0778 - val_accuracy: 0.9912\n",
            "Epoch 99/100\n",
            "15/15 [==============================] - 0s 6ms/step - loss: 0.0883 - accuracy: 0.9780 - val_loss: 0.0777 - val_accuracy: 0.9912\n",
            "Epoch 100/100\n",
            "15/15 [==============================] - 0s 6ms/step - loss: 0.0879 - accuracy: 0.9780 - val_loss: 0.0776 - val_accuracy: 0.9912\n"
          ]
        }
      ]
    },
    {
      "cell_type": "code",
      "source": [
        "print('Train score:', model.evaluate(X_train, y_train))\n",
        "print('Test score:', model.evaluate(X_test, y_test))"
      ],
      "metadata": {
        "colab": {
          "base_uri": "https://localhost:8080/"
        },
        "id": "eh91qTeiSbEE",
        "outputId": "6b199cb1-458f-4305-9b57-8d99c7d3326c"
      },
      "execution_count": 18,
      "outputs": [
        {
          "output_type": "stream",
          "name": "stdout",
          "text": [
            "15/15 [==============================] - 0s 5ms/step - loss: 0.0878 - accuracy: 0.9802\n",
            "Train score: [0.08775365352630615, 0.9802197813987732]\n",
            "4/4 [==============================] - 0s 6ms/step - loss: 0.0776 - accuracy: 0.9912\n",
            "Test score: [0.0775921642780304, 0.9912280440330505]\n"
          ]
        }
      ]
    },
    {
      "cell_type": "code",
      "source": [
        "plt.plot(r.history['loss'], label='loss')\n",
        "plt.plot(r.history['val_loss'], label='val_loss')\n",
        "plt.legend();"
      ],
      "metadata": {
        "colab": {
          "base_uri": "https://localhost:8080/",
          "height": 430
        },
        "id": "hsYemqblSuWj",
        "outputId": "4bb4eca9-6ee6-4990-a95f-8cd68b6133ff"
      },
      "execution_count": 19,
      "outputs": [
        {
          "output_type": "display_data",
          "data": {
            "text/plain": [
              "<Figure size 640x480 with 1 Axes>"
            ],
            "image/png": "[encoded data removed]"
          },
          "metadata": {}
        }
      ]
    },
    {
      "cell_type": "code",
      "source": [
        "plt.plot(r.history['accuracy'], label='acc')\n",
        "plt.plot(r.history['val_accuracy'], label='val_acc')\n",
        "plt.legend();"
      ],
      "metadata": {
        "colab": {
          "base_uri": "https://localhost:8080/",
          "height": 430
        },
        "id": "0qtEH4-hTG-y",
        "outputId": "e99a2df7-e321-4444-a7f0-ea15e1467dbc"
      },
      "execution_count": 20,
      "outputs": [
        {
          "output_type": "display_data",
          "data": {
            "text/plain": [
              "<Figure size 640x480 with 1 Axes>"
            ],
            "image/png": "[encoded data removed]"
          },
          "metadata": {}
        }
      ]
    },
    {
      "cell_type": "code",
      "source": [
        "P = model.predict(X_test)\n",
        "print(P)"
      ],
      "metadata": {
        "id": "0byGBot3TnDC",
        "colab": {
          "base_uri": "https://localhost:8080/"
        },
        "outputId": "8a66d8e0-507d-44b7-b534-2557b9c0f56b"
      },
      "execution_count": 23,
      "outputs": [
        {
          "output_type": "stream",
          "name": "stdout",
          "text": [
            "4/4 [==============================] - 0s 2ms/step\n",
            "[[9.30960305e-05]\n",
            " [9.96605515e-01]\n",
            " [8.66918015e-07]\n",
            " [3.99560601e-01]\n",
            " [2.02025782e-04]\n",
            " [2.76041497e-02]\n",
            " [9.99060452e-01]\n",
            " [9.98749733e-01]\n",
            " [4.22402889e-01]\n",
            " [9.99814808e-01]\n",
            " [8.75524640e-01]\n",
            " [9.28563531e-03]\n",
            " [4.76168096e-03]\n",
            " [9.99388099e-01]\n",
            " [7.40119636e-01]\n",
            " [3.19160149e-02]\n",
            " [9.83571887e-01]\n",
            " [9.94179487e-01]\n",
            " [9.47984517e-01]\n",
            " [2.05378085e-02]\n",
            " [1.62482247e-05]\n",
            " [5.39072394e-01]\n",
            " [9.98005688e-01]\n",
            " [9.89183307e-01]\n",
            " [9.80221152e-01]\n",
            " [9.12990689e-01]\n",
            " [6.26186356e-02]\n",
            " [9.91160989e-01]\n",
            " [3.14130937e-03]\n",
            " [9.80391026e-01]\n",
            " [9.97826993e-01]\n",
            " [5.65183014e-02]\n",
            " [3.46602082e-01]\n",
            " [4.22586563e-05]\n",
            " [9.99961138e-01]\n",
            " [1.95592523e-01]\n",
            " [9.92595732e-01]\n",
            " [2.02928752e-01]\n",
            " [1.69910993e-02]\n",
            " [9.95072901e-01]\n",
            " [6.07158005e-01]\n",
            " [9.96388793e-01]\n",
            " [9.98970270e-01]\n",
            " [2.66106980e-07]\n",
            " [9.97326970e-01]\n",
            " [1.19915619e-01]\n",
            " [1.87422658e-04]\n",
            " [9.93739367e-01]\n",
            " [9.63621974e-01]\n",
            " [9.53979850e-01]\n",
            " [9.95044947e-01]\n",
            " [1.72131127e-04]\n",
            " [2.86129449e-04]\n",
            " [8.75513535e-04]\n",
            " [9.58285093e-01]\n",
            " [2.23481638e-05]\n",
            " [9.50013399e-01]\n",
            " [9.89057720e-01]\n",
            " [9.98429954e-01]\n",
            " [2.76276141e-01]\n",
            " [1.22017875e-04]\n",
            " [9.94449139e-01]\n",
            " [9.03378546e-01]\n",
            " [9.25873995e-01]\n",
            " [9.71567392e-01]\n",
            " [9.98249292e-01]\n",
            " [9.18838322e-01]\n",
            " [6.85931154e-05]\n",
            " [7.22078204e-01]\n",
            " [5.84830642e-01]\n",
            " [6.32058072e-05]\n",
            " [6.19972527e-01]\n",
            " [8.97329450e-01]\n",
            " [9.55627918e-01]\n",
            " [2.56254477e-03]\n",
            " [9.96561110e-01]\n",
            " [7.58045644e-08]\n",
            " [9.99532342e-01]\n",
            " [9.44322467e-01]\n",
            " [9.41967726e-01]\n",
            " [9.72565174e-01]\n",
            " [9.98141646e-01]\n",
            " [9.92492974e-01]\n",
            " [9.99438107e-01]\n",
            " [9.98122990e-01]\n",
            " [9.88527179e-01]\n",
            " [9.83139455e-01]\n",
            " [9.54578400e-01]\n",
            " [7.25446489e-06]\n",
            " [8.43626082e-01]\n",
            " [6.26186724e-04]\n",
            " [9.95518327e-01]\n",
            " [8.41741159e-04]\n",
            " [7.60836601e-02]\n",
            " [5.82431257e-01]\n",
            " [9.99815524e-01]\n",
            " [9.99753296e-01]\n",
            " [9.99949098e-01]\n",
            " [1.76546007e-01]\n",
            " [9.97888982e-01]\n",
            " [9.98051286e-01]\n",
            " [2.07067491e-03]\n",
            " [9.98679817e-01]\n",
            " [2.00615468e-05]\n",
            " [8.56423020e-01]\n",
            " [9.99872804e-01]\n",
            " [9.19297099e-01]\n",
            " [6.90022230e-01]\n",
            " [9.97719467e-01]\n",
            " [9.94592607e-01]\n",
            " [9.75182772e-01]\n",
            " [9.48337674e-01]\n",
            " [9.99729216e-01]\n",
            " [2.51326681e-04]]\n"
          ]
        }
      ]
    },
    {
      "cell_type": "code",
      "source": [
        "P = np.round(P).flatten()\n",
        "print(P)"
      ],
      "metadata": {
        "colab": {
          "base_uri": "https://localhost:8080/"
        },
        "id": "SZb0uY4as5Mq",
        "outputId": "dfa8f0f4-aedc-4e55-d516-661432f6dde9"
      },
      "execution_count": 26,
      "outputs": [
        {
          "output_type": "stream",
          "name": "stdout",
          "text": [
            "[0. 1. 0. 0. 0. 0. 1. 1. 0. 1. 1. 0. 0. 1. 1. 0. 1. 1. 1. 0. 0. 1. 1. 1.\n",
            " 1. 1. 0. 1. 0. 1. 1. 0. 0. 0. 1. 0. 1. 0. 0. 1. 1. 1. 1. 0. 1. 0. 0. 1.\n",
            " 1. 1. 1. 0. 0. 0. 1. 0. 1. 1. 1. 0. 0. 1. 1. 1. 1. 1. 1. 0. 1. 1. 0. 1.\n",
            " 1. 1. 0. 1. 0. 1. 1. 1. 1. 1. 1. 1. 1. 1. 1. 1. 0. 1. 0. 1. 0. 0. 1. 1.\n",
            " 1. 1. 0. 1. 1. 0. 1. 0. 1. 1. 1. 1. 1. 1. 1. 1. 1. 0.]\n"
          ]
        }
      ]
    },
    {
      "cell_type": "code",
      "source": [
        "# Calculate the accuracy, compare it to evaluate() output\n",
        "print(\"Manually calculated accuracy:\", np.mean(P == y_test))\n",
        "print(\"Evaluate output:\", model.evaluate(X_test, y_test))"
      ],
      "metadata": {
        "colab": {
          "base_uri": "https://localhost:8080/"
        },
        "id": "W7EF-vWstBlO",
        "outputId": "026d43a0-73e9-44ac-e302-cc5034d52559"
      },
      "execution_count": 27,
      "outputs": [
        {
          "output_type": "stream",
          "name": "stdout",
          "text": [
            "Manually calculated accuracy: 0.9912280701754386\n",
            "4/4 [==============================] - 0s 4ms/step - loss: 0.0776 - accuracy: 0.9912\n",
            "Evaluate output: [0.0775921642780304, 0.9912280440330505]\n"
          ]
        }
      ]
    },
    {
      "cell_type": "code",
      "source": [
        "# Saving model\n",
        "model.save('linearclassifierbreastcancer.h5')"
      ],
      "metadata": {
        "colab": {
          "base_uri": "https://localhost:8080/"
        },
        "id": "xxAQyAe9tTYS",
        "outputId": "782f07c4-54ce-4818-a029-ecccf3e72e4e"
      },
      "execution_count": 28,
      "outputs": [
        {
          "output_type": "stream",
          "name": "stderr",
          "text": [
            "/usr/local/lib/python3.10/dist-packages/keras/src/engine/training.py:3103: UserWarning: You are saving your model as an HDF5 file via `model.save()`. This file format is considered legacy. We recommend using instead the native Keras format, e.g. `model.save('my_model.keras')`.\n",
            "  saving_api.save_model(\n"
          ]
        }
      ]
    },
    {
      "cell_type": "code",
      "source": [
        "# Check that the model file exists\n",
        "!ls -lh"
      ],
      "metadata": {
        "colab": {
          "base_uri": "https://localhost:8080/"
        },
        "id": "y64RfdnZtwQw",
        "outputId": "0519e7e7-fb4d-4fe5-fc72-5567d4992b48"
      },
      "execution_count": 33,
      "outputs": [
        {
          "output_type": "stream",
          "name": "stdout",
          "text": [
            "total 24K\n",
            "-rw-r--r-- 1 root root  20K Jun  6 13:22 linearclassifierbreastcancer.h5\n",
            "drwxr-xr-x 1 root root 4.0K Jun  4 13:37 sample_data\n"
          ]
        }
      ]
    },
    {
      "cell_type": "code",
      "source": [
        "# Let's load the model and confirm that it still works\n",
        "# Note: there is a bug in Keras where load/save only works if you DON'T use the Input() layer explicitly\n",
        "# So, make sure you define the model with ONLY Dense(1, input_shape=(D,))\n",
        "# At least, until the bug is fixed\n",
        "# https://github.com/keras-team/keras/issues/10417\n",
        "model = tf.keras.models.load_model('linearclassifierbreastcancer.h5')\n",
        "print(model.layers)\n",
        "model.evaluate(X_test, y_test)"
      ],
      "metadata": {
        "colab": {
          "base_uri": "https://localhost:8080/"
        },
        "id": "W4pHypUytw9c",
        "outputId": "b492fe6a-9f2f-44b1-a1e7-dcf0686c11be"
      },
      "execution_count": 31,
      "outputs": [
        {
          "output_type": "stream",
          "name": "stdout",
          "text": [
            "[<keras.src.layers.core.dense.Dense object at 0x7e7a6673ee60>]\n",
            "4/4 [==============================] - 0s 3ms/step - loss: 0.0776 - accuracy: 0.9912\n"
          ]
        },
        {
          "output_type": "execute_result",
          "data": {
            "text/plain": [
              "[0.0775921642780304, 0.9912280440330505]"
            ]
          },
          "metadata": {},
          "execution_count": 31
        }
      ]
    },
    {
      "cell_type": "code",
      "source": [
        "# Download the file\n",
        "from google.colab import files\n",
        "files.download('linearclassifierbreastcancer.h5')"
      ],
      "metadata": {
        "colab": {
          "base_uri": "https://localhost:8080/",
          "height": 17
        },
        "id": "ZtS5Ya77t0C2",
        "outputId": "110a8605-8105-48ab-f039-f3de7a322f71"
      },
      "execution_count": 32,
      "outputs": [
        {
          "output_type": "display_data",
          "data": {
            "text/plain": [
              "<IPython.core.display.Javascript object>"
            ],
            "application/javascript": [
              "\n",
              "    async function download(id, filename, size) {\n",
              "      if (!google.colab.kernel.accessAllowed) {\n",
              "        return;\n",
              "      }\n",
              "      const div = document.createElement('div');\n",
              "      const label = document.createElement('label');\n",
              "      label.textContent = `Downloading \"${filename}\": `;\n",
              "      div.appendChild(label);\n",
              "      const progress = document.createElement('progress');\n",
              "      progress.max = size;\n",
              "      div.appendChild(progress);\n",
              "      document.body.appendChild(div);\n",
              "\n",
              "      const buffers = [];\n",
              "      let downloaded = 0;\n",
              "\n",
              "      const channel = await google.colab.kernel.comms.open(id);\n",
              "      // Send a message to notify the kernel that we're ready.\n",
              "      channel.send({})\n",
              "\n",
              "      for await (const message of channel.messages) {\n",
              "        // Send a message to notify the kernel that we're ready.\n",
              "        channel.send({})\n",
              "        if (message.buffers) {\n",
              "          for (const buffer of message.buffers) {\n",
              "            buffers.push(buffer);\n",
              "            downloaded += buffer.byteLength;\n",
              "            progress.value = downloaded;\n",
              "          }\n",
              "        }\n",
              "      }\n",
              "      const blob = new Blob(buffers, {type: 'application/binary'});\n",
              "      const a = document.createElement('a');\n",
              "      a.href = window.URL.createObjectURL(blob);\n",
              "      a.download = filename;\n",
              "      div.appendChild(a);\n",
              "      a.click();\n",
              "      div.remove();\n",
              "    }\n",
              "  "
            ]
          },
          "metadata": {}
        },
        {
          "output_type": "display_data",
          "data": {
            "text/plain": [
              "<IPython.core.display.Javascript object>"
            ],
            "application/javascript": [
              "download(\"download_549ed475-f604-458e-b19a-1da28abefec5\", \"linearclassifierbreastcancer.h5\", 20240)"
            ]
          },
          "metadata": {}
        }
      ]
    },
    {
      "cell_type": "code",
      "source": [],
      "metadata": {
        "id": "HZLuNsFkt6Cf"
      },
      "execution_count": null,
      "outputs": []
    }
  ]
}